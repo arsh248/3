{
 "cells": [
  {
   "cell_type": "code",
   "execution_count": 5,
   "metadata": {},
   "outputs": [
    {
     "name": "stdout",
     "output_type": "stream",
     "text": [
      "Server running\n"
     ]
    }
   ],
   "source": [
    "import Pyro4\n",
    "\n",
    "@Pyro4.expose\n",
    "\n",
    "class StringConcatenator(object):\n",
    "    def concatenate_strings(self, str1, str2):\n",
    "        return str1+str2\n",
    "    \n",
    "daemon = Pyro4.Daemon()\n",
    "ns = Pyro4.locateNS()\n",
    "uri = daemon.register(StringConcatenator)\n",
    "ns.register('concatenate', uri)\n",
    "\n",
    "print(\"Server running\")\n",
    "daemon.requestLoop()"
   ]
  },
  {
   "cell_type": "code",
   "execution_count": null,
   "metadata": {},
   "outputs": [],
   "source": []
  }
 ],
 "metadata": {
  "kernelspec": {
   "display_name": "Python 3",
   "language": "python",
   "name": "python3"
  },
  "language_info": {
   "codemirror_mode": {
    "name": "ipython",
    "version": 3
   },
   "file_extension": ".py",
   "mimetype": "text/x-python",
   "name": "python",
   "nbconvert_exporter": "python",
   "pygments_lexer": "ipython3",
   "version": "3.11.3"
  }
 },
 "nbformat": 4,
 "nbformat_minor": 2
}

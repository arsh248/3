{
 "cells": [
  {
   "cell_type": "code",
   "execution_count": 2,
   "metadata": {},
   "outputs": [
    {
     "name": "stdout",
     "output_type": "stream",
     "text": [
      "Factorial server ready.\n"
     ]
    }
   ],
   "source": [
    "import Pyro4\n",
    "\n",
    "@Pyro4.expose\n",
    "class FactorialServer:\n",
    "    def factorial(self, n):\n",
    "        result = 1\n",
    "        for i in range(1, n + 1):\n",
    "            result *= i\n",
    "        return result\n",
    "\n",
    "daemon = Pyro4.Daemon()                # Make a Pyro daemon\n",
    "ns = Pyro4.locateNS()                  # Find the name server\n",
    "uri = daemon.register(FactorialServer) # Register the server object with a name in the name server\n",
    "ns.register(\"factorial.server\", uri)   # Register the object with a name in the name server\n",
    "\n",
    "print(\"Factorial server ready.\")\n",
    "daemon.requestLoop()                   # Start the event loop of the server to wait for calls\n"
   ]
  },
  {
   "cell_type": "code",
   "execution_count": null,
   "metadata": {},
   "outputs": [],
   "source": []
  }
 ],
 "metadata": {
  "kernelspec": {
   "display_name": "Python 3",
   "language": "python",
   "name": "python3"
  },
  "language_info": {
   "codemirror_mode": {
    "name": "ipython",
    "version": 3
   },
   "file_extension": ".py",
   "mimetype": "text/x-python",
   "name": "python",
   "nbconvert_exporter": "python",
   "pygments_lexer": "ipython3",
   "version": "3.11.3"
  }
 },
 "nbformat": 4,
 "nbformat_minor": 2
}
